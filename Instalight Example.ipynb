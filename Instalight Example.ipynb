{
 "cells": [
  {
   "cell_type": "markdown",
   "id": "7bea9f79",
   "metadata": {},
   "source": [
    "# Instalight"
   ]
  },
  {
   "cell_type": "markdown",
   "id": "419272ac",
   "metadata": {},
   "source": [
    "The goal of the project is to provide a easy way to assemble and thus simulate the response of photonic integrated circuit, primarily using transfer matrices. Interactive widgets are used to enable real-time tuning of parameters and display of transmissions ect.\n",
    "\n",
    "The following components are considered as fundamental: waveguides, directional couplers, linear phase shifters, multimode interferometer (MMI), and Y-branch.\n",
    "\n",
    "Common building blocks, such as ring resonators and mach zehnder interferometer (MZI), are also available."
   ]
  },
  {
   "cell_type": "markdown",
   "id": "9d54556b",
   "metadata": {},
   "source": [
    "### global parameters"
   ]
  },
  {
   "cell_type": "code",
   "execution_count": 1,
   "id": "44a880e2",
   "metadata": {},
   "outputs": [],
   "source": [
    "# Import libraries to be used\n",
    "import numpy as np\n",
    "import matplotlib.pyplot as plt\n",
    "from ipywidgets import interact, interactive, fixed, interact_manual\n",
    "import ipywidgets as widgets\n",
    "from tqdm import tqdm\n",
    "import scipy.constants as sc\n",
    "import matplotlib as mpl\n",
    "import scipy.io as io\n",
    "import warnings\n",
    "warnings.filterwarnings('ignore')"
   ]
  },
  {
   "cell_type": "code",
   "execution_count": 2,
   "id": "77ec9e83",
   "metadata": {},
   "outputs": [],
   "source": [
    "# Defining the constant values\n",
    "ng = 4\n",
    "dndl = -2580642.76129          # 1/m\n",
    "wg_loss = 360                  # dB/m\n",
    "pn_loss = 2000                 # dB/m\n",
    "pi = np.pi\n",
    "c = sc.c                       # speed of light in vacuum"
   ]
  },
  {
   "cell_type": "markdown",
   "id": "033c9855",
   "metadata": {},
   "source": [
    "### functions for simulating fundamental components"
   ]
  },
  {
   "cell_type": "code",
   "execution_count": 3,
   "id": "e5d2e892",
   "metadata": {},
   "outputs": [],
   "source": [
    "def find_neff(lambda_c, ng=4, dndl=-2580642.76129):\n",
    "    return dndl*lambda_c + ng\n",
    "def phi(l, lambda_c):\n",
    "    return 2*pi/lambda_c * find_neff(lambda_c, ng = 4.26, dndl = dndl)*l\n",
    "def waveguide(l, lambda_c):\n",
    "    phi = 2*pi/lambda_c * find_neff(lambda_c, ng = 4.26, dndl = dndl)*l\n",
    "    return np.exp(-1j*phi) * 10**(-wg_loss*l/10)\n",
    "def get_kappa_matrix(kappa):\n",
    "    return np.matrix([[np.sqrt(1-kappa), 1j*np.sqrt(kappa)], \n",
    "                                  [1j*np.sqrt(kappa), np.sqrt(1-kappa)]])\n",
    "# define kappa as through port power coupling ratio\n",
    "def MMI_2x2(kappa = 0.5, phase = pi/2):\n",
    "    return np.matrix([[np.sqrt(kappa), np.sqrt(1-kappa)*np.exp(1j*phase)],[np.sqrt(1-kappa)*np.exp(1j*phase),np.sqrt(kappa)]])"
   ]
  },
  {
   "cell_type": "markdown",
   "id": "6d627527",
   "metadata": {},
   "source": [
    "## Mach-Zehnder Interferometer (MZI)"
   ]
  },
  {
   "cell_type": "markdown",
   "id": "56e9e48a",
   "metadata": {},
   "source": [
    "<img src = 'MZI2.png' style = 'width:600px;height:400px'/>"
   ]
  },
  {
   "cell_type": "code",
   "execution_count": 4,
   "id": "10a9d149",
   "metadata": {},
   "outputs": [],
   "source": [
    "# The function returns the transfer matrix of MZI\n",
    "def MZI(kappa_1 = 0.1, kappa_2 = 0.7, arm_1 = 10e-6, arm_2 = 100e-6, wg_loss = 360, lambda_c = 1550e-9):\n",
    "    phi_arm_1 = phi(l = arm_1, lambda_c=lambda_c)\n",
    "    phi_arm_2 = phi(l = arm_2, lambda_c=lambda_c)\n",
    "    \n",
    "    kappa_1_matrix = get_kappa_matrix(kappa_1)\n",
    "    mzi_arm_matrix = np.matrix([[np.exp(-1j*phi_arm_1)*10**(-wg_loss*arm_1/10), 0],\n",
    "                                    [0,np.exp(-1j*phi_arm_2)*10**(-wg_loss*arm_2/10)]])\n",
    "    kappa_2_matrix = get_kappa_matrix(kappa_2)\n",
    "    \n",
    "    mzi_matrix = kappa_2_matrix*mzi_arm_matrix*kappa_1_matrix\n",
    "    return mzi_matrix"
   ]
  },
  {
   "cell_type": "code",
   "execution_count": 5,
   "id": "d5b14152",
   "metadata": {},
   "outputs": [],
   "source": [
    "def plot_transmission_MZI(kappa1, kappa2, center_wavelength, wavelength_range, arm1, arm2):\n",
    "    center_wavelength = center_wavelength*1e-09\n",
    "    wavelength_range = wavelength_range*1e-09\n",
    "    arm1 = arm1*1e-06\n",
    "    arm2 = arm2*1e-06\n",
    "    Start_wavelength = center_wavelength-wavelength_range\n",
    "    Stop_wavelength = center_wavelength+wavelength_range\n",
    "    Sweep_step = 1000\n",
    "    wavelength = np.linspace(Start_wavelength, Stop_wavelength, Sweep_step)\n",
    "    mzi_m = MZI(kappa_1 = kappa1, kappa_2 = kappa2, arm_1 = arm1, arm_2 = arm2, lambda_c = wavelength)\n",
    "    plt.plot(wavelength*1e09, 20*np.log10(np.abs(mzi_m[0,0])**2))\n",
    "    plt.title('$\\kappa_1$ = {:.2f}, $\\kappa_2$ = {:.2f}, Arm 1 = {:.1f} um, Arm 2 = {:.1f} um'.format(kappa1,kappa2,arm1*1e06,arm2*1e06))\n",
    "    plt.xlabel(\"Wavelength (nm)\")\n",
    "    plt.ylabel(\"Transmission (dB)\")\n",
    "    plt.ylim(-50,0)\n",
    "    plt.rcParams['figure.figsize'] = [12, 6]"
   ]
  },
  {
   "cell_type": "code",
   "execution_count": 6,
   "id": "193c1724",
   "metadata": {},
   "outputs": [
    {
     "data": {
      "application/vnd.jupyter.widget-view+json": {
       "model_id": "462cb462ff554b0daf232b6e1ccbe1b9",
       "version_major": 2,
       "version_minor": 0
      },
      "text/plain": [
       "interactive(children=(FloatSlider(value=0.3, description='Kappa 1:', max=1.0, step=0.01), FloatSlider(value=0.…"
      ]
     },
     "metadata": {},
     "output_type": "display_data"
    },
    {
     "data": {
      "text/plain": [
       "<function __main__.plot_transmission_MZI(kappa1, kappa2, center_wavelength, wavelength_range, arm1, arm2)>"
      ]
     },
     "execution_count": 6,
     "metadata": {},
     "output_type": "execute_result"
    }
   ],
   "source": [
    "interact(plot_transmission_MZI, center_wavelength = widgets.IntSlider(value=1550, min=1500, max=1600, step=1, description='Center Wavelength (nm):'),\n",
    "                                       wavelength_range = widgets.IntSlider(value=50,    min=0,    max=100,  step=1, description='Wavelength Range (nm):'), \n",
    "                                       kappa1 = widgets.FloatSlider(value=0.3, min=0, max=1, step=0.01, description='Kappa 1:'),\n",
    "                                       kappa2 = widgets.FloatSlider(value=0.8, min=0, max=1, step=0.01, description='Kappa 2:'),\n",
    "                                       arm1 = widgets.FloatSlider(value=60, min=5, max=200, step=0.1, description='Arm 1 (um):'),\n",
    "                                       arm2 = widgets.FloatSlider(value=100, min=5, max=200, step=0.1, description='Arm 2 (um):'))"
   ]
  },
  {
   "cell_type": "markdown",
   "id": "41d95b76",
   "metadata": {},
   "source": [
    "## Ring resonators"
   ]
  },
  {
   "cell_type": "markdown",
   "id": "da2d0153",
   "metadata": {},
   "source": [
    "### Notch filter"
   ]
  },
  {
   "cell_type": "markdown",
   "id": "8065f239",
   "metadata": {},
   "source": [
    "<img src = 'Notch.png' style = 'width:500px;height:350px'/>"
   ]
  },
  {
   "cell_type": "code",
   "execution_count": 7,
   "id": "5a777f7c",
   "metadata": {},
   "outputs": [],
   "source": [
    "def notch_filter(lambda_c, kappa, l, input_1):\n",
    "    waveguide_1 = waveguide(l, lambda_c)\n",
    "    coefficient_m =  np.array([[-np.sqrt(1-kappa), 1.]\n",
    "                              ,[-1., waveguide_1]])\n",
    "    value_m = np.array([1j*np.sqrt(kappa)*input_1, 0.])\n",
    "    solution = np.linalg.solve(coefficient_m, value_m)\n",
    "    output_1 = np.sqrt(1-kappa)*input_1 + 1j*np.sqrt(kappa) * solution[0]\n",
    "    return output_1"
   ]
  },
  {
   "cell_type": "code",
   "execution_count": 8,
   "id": "0930e3a2",
   "metadata": {},
   "outputs": [],
   "source": [
    "def plot_transmission_notch(kappa, center_wavelength, wavelength_range, l):\n",
    "    center_wavelength = center_wavelength*1e-09\n",
    "    wavelength_range = wavelength_range*1e-09\n",
    "    l = l*1e-06\n",
    "    Start_wavelength = center_wavelength-wavelength_range\n",
    "    Stop_wavelength = center_wavelength+wavelength_range\n",
    "    Sweep_step = 1000\n",
    "    wavelength = np.linspace(Start_wavelength, Stop_wavelength, Sweep_step)\n",
    "    results  = np.zeros(1000,dtype = 'complex_')\n",
    "    for i in range(1000):\n",
    "        results[i] = notch_filter(wavelength[i],kappa,l,1)\n",
    "    plt.plot(wavelength*1e09, 20*np.log10(np.abs(results)**2))\n",
    "    plt.title('$\\kappa$ = {:.2f}, Waveguide = {:.1f} um'.format(kappa, l*1e06))\n",
    "    plt.xlabel(\"Wavelength (nm)\")\n",
    "    plt.ylabel(\"Transmission (dB)\")\n",
    "    plt.ylim(-15,0)\n",
    "    plt.rcParams['figure.figsize'] = [12, 6]"
   ]
  },
  {
   "cell_type": "code",
   "execution_count": 9,
   "id": "5a9e04ba",
   "metadata": {},
   "outputs": [
    {
     "data": {
      "application/vnd.jupyter.widget-view+json": {
       "model_id": "cb135822305a40beb95faea5718e0cb7",
       "version_major": 2,
       "version_minor": 0
      },
      "text/plain": [
       "interactive(children=(FloatSlider(value=0.01, description='Kappa', max=1.0), IntSlider(value=1550, description…"
      ]
     },
     "metadata": {},
     "output_type": "display_data"
    },
    {
     "data": {
      "text/plain": [
       "<function __main__.plot_transmission_notch(kappa, center_wavelength, wavelength_range, l)>"
      ]
     },
     "execution_count": 9,
     "metadata": {},
     "output_type": "execute_result"
    }
   ],
   "source": [
    "interact(plot_transmission_notch, center_wavelength = widgets.IntSlider(value=1550, min=1500, max=1600, step=1, description='Center Wavelength (nm):'),\n",
    "                                       wavelength_range = widgets.IntSlider(value=25,    min=0,    max=100,  step=1, description='Wavelength Range (nm):'), \n",
    "                                       kappa = widgets.FloatSlider(value=0.01, min=0, max=1, step=0.1, description='Kappa'),\n",
    "                                       l = widgets.FloatSlider(value=200, min=50, max=500, step=1, description='l (um):'))"
   ]
  },
  {
   "cell_type": "markdown",
   "id": "e9b35e2b",
   "metadata": {},
   "source": [
    "### Generalization: Ring with n directional couplers"
   ]
  },
  {
   "cell_type": "markdown",
   "id": "29c90469",
   "metadata": {},
   "source": [
    "Note: The order of coupler_list, waveguide_list, and input_list should be self-consistent (clockwise/counter clockwise direction). 1st waveguide should be the one encountered by the propogating wave when it leaves the 1st directional coupler."
   ]
  },
  {
   "cell_type": "code",
   "execution_count": 10,
   "id": "7986ef80",
   "metadata": {},
   "outputs": [],
   "source": [
    "# This function takes in a list of coupling coefficient, waveguide attenuation & phase shift coefficients\n",
    "# to calculate the output at \"throughput\" ports given the specified input\n",
    "def simple_ring(n, coupler_list, waveguide_list, input_list):\n",
    "    coefficient_m = np.zeros((2*n, 2*n),dtype = 'complex_')\n",
    "    value_m = np.zeros(2*n,dtype = 'complex_')\n",
    "    output_list = np.zeros(n,dtype = 'complex_')\n",
    "    for i in range(n):\n",
    "        coefficient_m[i,i] = -np.sqrt(1-coupler_list[i])\n",
    "        coefficient_m[i,n+i] = 1\n",
    "        coefficient_m[2*n-1-i,i] = -1\n",
    "        coefficient_m[n+i,n+i] = waveguide_list[i]\n",
    "        value_m[i] = 1j*np.sqrt(coupler_list[i])*input_list[i]\n",
    "    solution = np.linalg.solve(coefficient_m, value_m)\n",
    "    for m in range(n):\n",
    "        output_list[m] = np.sqrt(1-coupler_list[m])*input_list[m] + 1j*np.sqrt(coupler_list[m]) * solution[m]\n",
    "    return output_list"
   ]
  },
  {
   "cell_type": "markdown",
   "id": "ca37cbe3",
   "metadata": {},
   "source": [
    "### Special case: Add-drop filter"
   ]
  },
  {
   "cell_type": "markdown",
   "id": "57397e9b",
   "metadata": {},
   "source": [
    "<img src = 'Add-Drop.png' style = 'width:700px;height:500px'/>"
   ]
  },
  {
   "cell_type": "code",
   "execution_count": 11,
   "id": "b0fd80fb",
   "metadata": {},
   "outputs": [],
   "source": [
    "def plot_transmission_adddrop(kappa_1, kappa_2, central_wavelength, wavelength_range, l_1, l_2, input_1, input_2):\n",
    "    # define the central wavelength, range of wavelength sweep, and number of steps in wavelength\n",
    "    central_wavelength = central_wavelength*1e-09\n",
    "    wavelength_range = wavelength_range*1e-09\n",
    "    l_1 = l_1 * 1e-06\n",
    "    l_2 = l_2 * 1e-06\n",
    "    steps = 1000\n",
    "    # define the number of directional couplers along the ring\n",
    "    n = 2\n",
    "    # define length of waveguides\n",
    "    length_list = np.array([l_1,l_2])\n",
    "    # define the coupling ratio of the directional couplers\n",
    "    coupler_list = np.array([kappa_1,kappa_2])\n",
    "    # define the power at input ports\n",
    "    input_list = np.array([input_1,input_2])\n",
    "    # initialize an array of wavelength and an array to store the power transmission at through ports\n",
    "    wavelength = np.linspace(central_wavelength-wavelength_range, central_wavelength+wavelength_range, steps)\n",
    "    result_1 = np.zeros(steps)\n",
    "    result_2 = np.zeros(steps)\n",
    "    for i in range(steps):\n",
    "        waveguide_1 = waveguide(length_list[0], wavelength[i])\n",
    "        waveguide_2 = waveguide(length_list[1], wavelength[i])\n",
    "        waveguide_list = np.array([waveguide_1, waveguide_2])\n",
    "        through_ports = simple_ring(n, coupler_list, waveguide_list, input_list)\n",
    "        result_1[i] = np.abs(through_ports[0])**2\n",
    "        result_2[i] = np.abs(through_ports[1])**2\n",
    "    plt.plot(wavelength*1e09, 20*np.log10(result_1),label='Throughput port')\n",
    "    plt.plot(wavelength*1e09, 20*np.log10(result_2),label='Drop port')\n",
    "    plt.xlabel(\"Wavelength (nm)\")\n",
    "    plt.ylabel(\"Transmission (dB)\")\n",
    "    plt.ylim(-60,0)\n",
    "    leg = plt.legend(loc='upper center')\n",
    "    plt.show()"
   ]
  },
  {
   "cell_type": "code",
   "execution_count": 12,
   "id": "cd45cf27",
   "metadata": {},
   "outputs": [
    {
     "data": {
      "application/vnd.jupyter.widget-view+json": {
       "model_id": "746b2f21df664a64bb58ee1a565a0ce6",
       "version_major": 2,
       "version_minor": 0
      },
      "text/plain": [
       "interactive(children=(FloatSlider(value=0.4, description='Kappa 1:', max=1.0, step=0.01), FloatSlider(value=0.…"
      ]
     },
     "metadata": {},
     "output_type": "display_data"
    },
    {
     "data": {
      "text/plain": [
       "<function __main__.plot_transmission_adddrop(kappa_1, kappa_2, central_wavelength, wavelength_range, l_1, l_2, input_1, input_2)>"
      ]
     },
     "execution_count": 12,
     "metadata": {},
     "output_type": "execute_result"
    }
   ],
   "source": [
    "interact(plot_transmission_adddrop, central_wavelength = widgets.IntSlider(value=1550, min=1500, max=1600, step=1, description='Center Wavelength (nm):'),\n",
    "                                       wavelength_range = widgets.IntSlider(value=10,    min=0,    max=100,  step=1, description='Wavelength Range (nm):'), \n",
    "                                       kappa_1 = widgets.FloatSlider(value=0.4, min=0, max=1, step=0.01, description='Kappa 1:'),\n",
    "                                       kappa_2 = widgets.FloatSlider(value=0.6, min=0, max=1, step=0.01, description='Kappa 2:'),\n",
    "                                       l_1 = widgets.FloatSlider(value=100, min=50, max=200, step=1, description='l_1 (um):'),\n",
    "                                       l_2 = widgets.FloatSlider(value=100, min=50, max=200, step=1, description='l_2 (um):'),\n",
    "                                       input_1 = widgets.FloatSlider(value=1, min=0, max=1, step=0.01, description='Input:'),\n",
    "                                       input_2 = widgets.FloatSlider(value=0, min=0, max=1, step=0.01, description='Add:'))"
   ]
  },
  {
   "cell_type": "markdown",
   "id": "71964ab7",
   "metadata": {},
   "source": [
    "## 90 degree hybrid"
   ]
  },
  {
   "cell_type": "markdown",
   "id": "e00a132b",
   "metadata": {},
   "source": [
    "<img src = '90_degree_hybrid.png' style = 'width:550px;height:400px'/>"
   ]
  },
  {
   "cell_type": "markdown",
   "id": "a0837bd7",
   "metadata": {},
   "source": [
    "<img src = 'hybrid_3.png' style = 'width:400px;height:200px'/>"
   ]
  },
  {
   "cell_type": "markdown",
   "id": "e009a452",
   "metadata": {},
   "source": [
    "<img src = 'hybrid_2.png' style = 'width:600px;height:200px'/>"
   ]
  },
  {
   "cell_type": "code",
   "execution_count": 13,
   "id": "3c932620",
   "metadata": {},
   "outputs": [],
   "source": [
    "# takes in 2x1 column vector [[E_Signal],[E_local_oscillator]] and return a 4x1 column vector of [[Q_p],[Q_n],[I_n],[I_p]]\n",
    "def standard_hybrid(waveguide_list = np.array([np.exp(1j*0),np.exp(1j*0),np.exp(1j*0),np.exp(1j*0)])):\n",
    "    # assume ideal power spliting\n",
    "    kappa = 1/2\n",
    "    # convert to 4x1 vector to match transfer matrices\n",
    "    convert_m = np.zeros((4,2))\n",
    "    convert_m[0,0] = 1; convert_m[1,1] = 1;\n",
    "    # transfer matrix for Y-branch and 2x2 MMI\n",
    "    split_m = np.zeros((4, 4),dtype = 'complex_')\n",
    "    split_m[0,0] = 1; split_m[3,0] = np.exp(1j*pi/2); #2x2 MMI\n",
    "    split_m[1,1] = 1; split_m[2,1] = 1; #Y-branch\n",
    "    split_m = np.sqrt(kappa)*split_m\n",
    "    # transfer matrix for bends\n",
    "    bend_m = np.zeros((4, 4),dtype = 'complex_')\n",
    "    for i in range(4):\n",
    "        bend_m[i,i] = waveguide_list[i]\n",
    "    # transfer matrix for Q & I channel\n",
    "    mix_m = np.zeros((4, 4),dtype = 'complex_')\n",
    "    mix_m[0:2,0:2] = MMI_2x2(); mix_m[2:,2:] = MMI_2x2();\n",
    "    mix_m = np.sqrt(kappa)*mix_m\n",
    "    hybrid_m = mix_m@bend_m@split_m@convert_m\n",
    "    # ignore constant phase offset\n",
    "    for i in range(4):\n",
    "        hybrid_m[i] = hybrid_m[i]/hybrid_m[i,0]\n",
    "    return hybrid_m\n",
    "    "
   ]
  },
  {
   "cell_type": "code",
   "execution_count": 14,
   "id": "4f509a59",
   "metadata": {},
   "outputs": [],
   "source": [
    "# takes in 2x1 column vector [[E_Signal],[E_local_oscillator]] and return a 4x1 column vector of [[Q_p],[Q_n],[I_n],[I_p]]\n",
    "# waveguide_list order as labeled in the diagram\n",
    "# kappa_list: signal MMI, Q channel MMI, Y-Branch, I channel MMI\n",
    "def custom_hybrid(waveguide_list, kappa_list, MMI_phase = pi/2):\n",
    "    # convert to 4x1 vector to match transfer matrices\n",
    "    convert_m = np.zeros((4,2))\n",
    "    convert_m[0,0] = 1; convert_m[1,1] = 1;\n",
    "    # transfer matrix for Y-branch and 2x2 MMI\n",
    "    split_m = np.zeros((4, 4),dtype = 'complex_')\n",
    "    split_m[0,0] = np.sqrt(kappa_list[0]); split_m[3,0] = np.sqrt(1-kappa_list[0])*np.exp(1j*MMI_phase); #2x2 MMI\n",
    "    split_m[1,1] = kappa_list[2]; split_m[2,1] = 1-kappa_list[2]; #Y-branch\n",
    "    # transfer matrix for bends\n",
    "    bend_m = np.zeros((4, 4),dtype = 'complex_')\n",
    "    for i in range(4):\n",
    "        bend_m[i,i] = waveguide_list[i]\n",
    "    # transfer matrix for Q & I channel\n",
    "    mix_m = np.zeros((4, 4),dtype = 'complex_')\n",
    "    mix_m[0:2,0:2] = MMI_2x2(kappa = kappa_list[1], phase = MMI_phase); mix_m[2:,2:] = MMI_2x2(kappa = kappa_list[3], phase = MMI_phase);\n",
    "    hybrid_m = mix_m@bend_m@split_m@convert_m\n",
    "    # ignore constant phase offset\n",
    "#     for i in range(4):\n",
    "#         hybrid_m[i] = hybrid_m[i]/hybrid_m[i,0]\n",
    "    return hybrid_m"
   ]
  },
  {
   "cell_type": "code",
   "execution_count": 15,
   "id": "4bed386a",
   "metadata": {},
   "outputs": [],
   "source": [
    "def random_signal(n,noise_level):\n",
    "    I = np.array([1,-1])\n",
    "    Q = np.array([1j,-1j])\n",
    "    s_re = np.random.choice(I,n)\n",
    "    s_imag = np.random.choice(Q,n)\n",
    "    pure_signal = s_re+s_imag\n",
    "    noise = np.random.uniform(-1*noise_level,noise_level,n) + np.random.uniform(-1*noise_level,noise_level,n)*1j\n",
    "    noisy_signal = pure_signal + noise\n",
    "    return noisy_signal"
   ]
  },
  {
   "cell_type": "code",
   "execution_count": 16,
   "id": "be3e08db",
   "metadata": {},
   "outputs": [],
   "source": [
    "def plot_constellation_hybrid(n_signal, noise_level, l1, l2, l3, l4, k1, k2, k3, k4, wavelength, MMI_phase):\n",
    "    E_signal = random_signal(n_signal,noise_level)\n",
    "    E_LO = 1\n",
    "    length_list = 1e-06 * np.array([l1,l2,l3,l4])\n",
    "    kappa_list = [k1,k2,k3,k4]\n",
    "    wavelength = wavelength*1e-09\n",
    "    MMI_phase = MMI_phase*pi\n",
    "    waveguide_list = np.zeros(4,dtype = 'complex_')\n",
    "    phi_list = np.zeros(4)\n",
    "    Loss = 0; CMRR_i = 0; Imbalance_i = 0; CMRR_q = 0; Imbalance_q = 0;\n",
    "    for i in range(4):\n",
    "        waveguide_list[i] = waveguide(length_list[i],wavelength)\n",
    "        phi_list[i] = phi(length_list[i],wavelength)\n",
    "    plt.plot(1/np.sqrt(2),1/np.sqrt(2),'r+',mew=3, ms=30)\n",
    "    plt.plot(1/np.sqrt(2),-1/np.sqrt(2),'r+',mew=3, ms=30)\n",
    "    plt.plot(-1/np.sqrt(2),1/np.sqrt(2),'r+',mew=3, ms=30)\n",
    "    plt.plot(-1/np.sqrt(2),-1/np.sqrt(2),'r+',mew=3, ms=30)\n",
    "    for i in range(n_signal):\n",
    "        input_vector = np.array([[E_signal[i]],[E_LO]])\n",
    "        quadrature_states = custom_hybrid(waveguide_list, kappa_list, MMI_phase)@input_vector\n",
    "        state_power = np.abs(quadrature_states)**2\n",
    "        state_power_1 = np.array([state_power[0,0],state_power[1,0],state_power[2,0],state_power[3,0]])\n",
    "#         print(state_power_1)\n",
    "        sorted_power = sorted(state_power_1)\n",
    "        P = np.array([sorted_power[0],sorted_power[1]])\n",
    "        N = np.array([sorted_power[2],sorted_power[3]])\n",
    "        Q = state_power[0,0]-state_power[1,0]\n",
    "        I = state_power[3,0]-state_power[2,0]  \n",
    "        plt.plot(I, Q, 'b.',ms = 5)\n",
    "        Loss = Loss + 10*np.log10(np.abs(E_signal[i])**2+1)-10*np.log10(state_power[0,0]+state_power[1,0]+state_power[2,0]+state_power[3,0])\n",
    "#         print(np.abs(E_signal[i])**2,state_power[0,0]+state_power[1,0]+state_power[2,0]+state_power[3,0])\n",
    "#         state_power.sort()\n",
    "#         CMRR_i = CMRR_i + 20*np.log10(np.abs((state_power[0]-state_power[1])/(state_power[0]+state_power[1])))\n",
    "#         CMRR_q = CMRR_q + 20*np.log10(np.abs((state_power[2]-state_power[3])/(state_power[2]+state_power[3])))\n",
    "#         Imbalance_i = Imbalance_i + 10*np.log10(state_power[0]/state_power[1])\n",
    "#         Imbalance_q = Imbalance_q + 10*np.log10(state_power[2]/state_power[3])\n",
    "#         CMRR_i = CMRR_i + 20*np.log10(np.abs((state_power[3,0]-state_power[2,0])/(state_power[3,0]+state_power[2,0])))\n",
    "#         CMRR_q = CMRR_q + 20*np.log10(np.abs((state_power[0,0]-state_power[1,0])/(state_power[0,0]+state_power[1,0])))\n",
    "#         Imbalance_i = Imbalance_i + 10*np.log10(state_power[3,0]/state_power[2,0])\n",
    "#         Imbalance_q = Imbalance_q + 10*np.log10(state_power[0,0]/state_power[1,0])\n",
    "        CMRR_i = CMRR_i + 20*np.log10(np.abs((P[0]-P[1])/(P[0]+P[1])))\n",
    "        CMRR_q = CMRR_q + 20*np.log10(np.abs((N[0]-N[1])/(N[0]+N[1])))\n",
    "        Imbalance_i = Imbalance_i + 10*np.log10(P[0]/P[1])\n",
    "        Imbalance_q = Imbalance_q + 10*np.log10(N[0]/N[1])\n",
    "    phase_error = (0.5*pi - (phi_list[1]-phi_list[0]) - (phi_list[3]-phi_list[2]) - MMI_phase)/pi\n",
    "    Loss = Loss / n_signal; CMRR_i = CMRR_i / n_signal; Imbalance_i = Imbalance_i / n_signal; CMRR_q = CMRR_q / n_signal; Imbalance_q = Imbalance_q / n_signal;\n",
    "    str2display = \"Loss: \"+\"{:.3f}\".format(Loss) + ' dB\\n' + \"CMRR_i: \"+ \"{:.3f}\".format(CMRR_i) + ' dB\\n' + \"CMRR_q: \"+ \"{:.3f}\".format(CMRR_q) + ' dB\\n' + \"Imbalance_i: \"+ \"{:.3f}\".format(Imbalance_i) + ' dB\\n' + \"Imbalance_q: \"+ \"{:.3f}\".format(Imbalance_q) + ' dB\\n' + \"Phase Error: \"+ \"{:.3f}\".format(phase_error) + ' pi'\n",
    "    plt.annotate(str2display,xy = (0.8,1.2))\n",
    "    plt.ylabel('Quadrature Phase')\n",
    "    plt.xlabel('In Phase')\n",
    "    plt.xlim(-2,2)\n",
    "    plt.ylim(-2,2)\n",
    "    plt.rcParams['figure.figsize'] = [8, 8]\n",
    "    plt.show()"
   ]
  },
  {
   "cell_type": "code",
   "execution_count": 17,
   "id": "40260d9f",
   "metadata": {},
   "outputs": [
    {
     "data": {
      "application/vnd.jupyter.widget-view+json": {
       "model_id": "e059bfa416f54c529ee7f1739aecb622",
       "version_major": 2,
       "version_minor": 0
      },
      "text/plain": [
       "interactive(children=(IntSlider(value=100, description='Signal Number:  ', max=500, min=50, step=10, style=Sli…"
      ]
     },
     "metadata": {},
     "output_type": "display_data"
    },
    {
     "data": {
      "text/plain": [
       "<function __main__.plot_constellation_hybrid(n_signal, noise_level, l1, l2, l3, l4, k1, k2, k3, k4, wavelength, MMI_phase)>"
      ]
     },
     "execution_count": 17,
     "metadata": {},
     "output_type": "execute_result"
    }
   ],
   "source": [
    "style = {'description_width': 'initial'}\n",
    "interact(plot_constellation_hybrid, n_signal = widgets.IntSlider(value=100, min=50, max=500, step=10,               description='Signal Number:  ',style=style),\n",
    "                                       noise_level = widgets.FloatSlider(value=0.1,    min=0,    max=1,  step=0.01, description='Noise Level:    ',style=style), \n",
    "                                       l1 = widgets.FloatSlider(value=10, min=1, max=50, step=0.1,                  description='Wg 1(um):',style=style),\n",
    "                                       l2 = widgets.FloatSlider(value=10, min=1, max=50, step=0.1,                  description='Wg 2(um):',style=style),\n",
    "                                       l3 = widgets.FloatSlider(value=10, min=1, max=50, step=0.1,                  description='Wg 3(um):',style=style),\n",
    "                                       l4 = widgets.FloatSlider(value=10, min=1, max=50, step=0.1,                  description='Wg 4(um):',style=style),\n",
    "                                       k1 = widgets.FloatSlider(value=0.5, min=0.4, max=0.6, step=0.01,             description='Kappa 1:        ',style=style),\n",
    "                                       k2 = widgets.FloatSlider(value=0.5, min=0.4, max=0.6, step=0.01,             description='Kappa 2:        ',style=style),\n",
    "                                       k3 = widgets.FloatSlider(value=0.5, min=0.4, max=0.6, step=0.01,             description='Kappa 3:        ',style=style),\n",
    "                                       k4 = widgets.FloatSlider(value=0.5, min=0.4, max=0.6, step=0.01,             description='Kappa 4:        ',style=style),\n",
    "                                       wavelength = widgets.FloatSlider(value=1550, min=1500, max=1600, step=0.01,  description='Wavelength(nm): ',style=style),\n",
    "                                       MMI_phase = widgets.FloatSlider(value=0.5, min=0.4, max=0.6, step=0.01,      description='MMI_phase(Pi):  ',style=style))"
   ]
  },
  {
   "cell_type": "markdown",
   "id": "8536481a",
   "metadata": {},
   "source": [
    "<img src = 'hybrid.png' style = 'width:550px;height:400px'/>"
   ]
  },
  {
   "cell_type": "code",
   "execution_count": null,
   "id": "5fd6e2be",
   "metadata": {},
   "outputs": [],
   "source": []
  }
 ],
 "metadata": {
  "kernelspec": {
   "display_name": "Python 3 (ipykernel)",
   "language": "python",
   "name": "python3"
  },
  "language_info": {
   "codemirror_mode": {
    "name": "ipython",
    "version": 3
   },
   "file_extension": ".py",
   "mimetype": "text/x-python",
   "name": "python",
   "nbconvert_exporter": "python",
   "pygments_lexer": "ipython3",
   "version": "3.9.12"
  }
 },
 "nbformat": 4,
 "nbformat_minor": 5
}
